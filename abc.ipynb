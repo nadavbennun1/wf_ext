{
 "cells": [
  {
   "cell_type": "markdown",
   "id": "f0a54b2e-5059-4d51-9d8c-4f258ae7751d",
   "metadata": {},
   "source": [
    "# Approximate Bayesian Computation (ABC)"
   ]
  },
  {
   "cell_type": "code",
   "execution_count": 3,
   "id": "405aa21e-93e5-403e-9ce5-ae87685b19af",
   "metadata": {},
   "outputs": [],
   "source": [
    "# Load data\n",
    "import torch\n",
    "from evo_models import WF, WF_bottleneck, WF_DFE\n",
    "\n",
    "test_x = torch.load('test_sims/test_x_WF_bottleneck.pt')\n",
    "test_theta = torch.load('test_sims/test_theta_WF_bottleneck.pt')\n",
    "\n",
    "x = torch.load('test_sims/x.pt')\n",
    "theta = torch.load('test_sims/theta.pt')"
   ]
  },
  {
   "cell_type": "code",
   "execution_count": 4,
   "id": "de2cc3f1-ce6e-4a1d-aeb1-3a11e62d4b9f",
   "metadata": {},
   "outputs": [],
   "source": [
    "# Find best k sims in terms of MSE in the training set\n",
    "def best_k_sims(k, x_test_i, x):\n",
    "    dists = ((x_test_i - x)**2).sum(1)\n",
    "    return dists.sort().indices[:k]\n",
    "\n",
    "# Perofrm ABC\n",
    "def abc_full_data(k, theta_test, x_test, theta, x):\n",
    "    samples = torch.empty(len(theta_test), k, len(theta_test[0]))\n",
    "    for i in range(len(theta_test)):\n",
    "        x_test_i = x_test[i]\n",
    "        samples[i] = theta[best_k_sims(k, x_test[i], x)]\n",
    "    return samples\n",
    "\n",
    "# Save ABC results\n",
    "abc_samples_wf = abc_full_data(1000, test_theta, test_x, theta, x)        \n",
    "torch.save(abc_samples_wf, 'test_sims/samples_WF_bottleneck_abc.pt')"
   ]
  },
  {
   "cell_type": "code",
   "execution_count": null,
   "id": "6017ad63-88cc-43da-b274-0b41c09cd30d",
   "metadata": {},
   "outputs": [],
   "source": []
  }
 ],
 "metadata": {
  "kernelspec": {
   "display_name": "Python 3 (ipykernel)",
   "language": "python",
   "name": "python3"
  },
  "language_info": {
   "codemirror_mode": {
    "name": "ipython",
    "version": 3
   },
   "file_extension": ".py",
   "mimetype": "text/x-python",
   "name": "python",
   "nbconvert_exporter": "python",
   "pygments_lexer": "ipython3",
   "version": "3.9.20"
  }
 },
 "nbformat": 4,
 "nbformat_minor": 5
}
