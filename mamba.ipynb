{
 "cells": [
  {
   "cell_type": "code",
   "execution_count": null,
   "id": "71fb4389-9bba-4f9b-bac7-a7dc168e9fb1",
   "metadata": {},
   "outputs": [],
   "source": [
    "import torch\n",
    "import torch.nn as nn\n",
    "import torch.optim as optim\n",
    "from torch.utils.data import DataLoader, TensorDataset\n",
    "import numpy as np\n",
    "import matplotlib.pyplot as plt\n",
    "from tqdm import tqdm\n",
    "import os\n",
    "import sys\n",
    "\n",
    "# Import the Mamba model\n",
    "from mamba_wf import Mamba, RMSNorm\n",
    "\n",
    "torch.manual_seed(1)\n",
    "\n",
    "# Set device\n",
    "device = torch.device('cuda:1' if torch.cuda.is_available() else 'cpu')\n",
    "print(f\"Using device: {device}\")"
   ]
  },
  {
   "cell_type": "code",
   "execution_count": null,
   "id": "122c5963-4629-499f-a896-d5f2c32a32fe",
   "metadata": {},
   "outputs": [],
   "source": [
    "# Load the data\n",
    "x = torch.load('test_sims/x_combined.pt')\n",
    "x = x.reshape(x.shape[0], x.shape[1], 1)\n",
    "theta = torch.load('test_sims/theta_combined.pt')\n",
    "\n",
    "# Print shapes for verification\n",
    "print(\"Input data shape:\", x.shape)\n",
    "print(\"Target data shape:\", theta.shape)\n",
    "\n",
    "# Hyperparameters\n",
    "BATCH_SIZE = 100\n",
    "LEARNING_RATE = 5e-4\n",
    "EPOCHS = 70\n",
    "TRAIN_SPLIT = 0.9  # 80% for training, 20% for validation\n",
    "\n",
    "# Extract dimensions from the data\n",
    "n_samples = x.shape[0]\n",
    "seq_len = x.shape[1]\n",
    "d_model = 16\n",
    "state_size = 64 \n",
    "\n",
    "# Split the data into training and validation sets\n",
    "train_size = int(n_samples * TRAIN_SPLIT)\n",
    "train_x = x[:train_size]\n",
    "train_theta = theta[:train_size]\n",
    "val_x = x[train_size:]\n",
    "val_theta = theta[train_size:]\n",
    "\n",
    "# Create DataLoaders\n",
    "train_dataset = TensorDataset(train_x, train_theta)\n",
    "val_dataset = TensorDataset(val_x, val_theta)\n",
    "train_loader = DataLoader(train_dataset, batch_size=BATCH_SIZE, shuffle=True)\n",
    "val_loader = DataLoader(val_dataset, batch_size=BATCH_SIZE)"
   ]
  },
  {
   "cell_type": "code",
   "execution_count": null,
   "id": "c8df236d-b771-40bf-9e03-1ec41c7522ed",
   "metadata": {},
   "outputs": [],
   "source": [
    "# Function to add a linear output layer to map from d_model to n_params (which is theta.shape[1])\n",
    "class MambaWithOutputLayer(nn.Module):\n",
    "    def __init__(self, seq_len, d_model, state_size, output_size, device):\n",
    "        super(MambaWithOutputLayer, self).__init__()\n",
    "        self.mamba = Mamba(seq_len=seq_len, d_model=d_model, state_size=state_size, device=device)\n",
    "        self.output_layer = nn.Linear(d_model, output_size)\n",
    "        \n",
    "    def forward(self, x):\n",
    "        # The Mamba output has shape [batch_size, seq_len, d_model]\n",
    "        # We need to process it to get [batch_size, output_size]\n",
    "        x = self.mamba(x)\n",
    "        # Take the last timestep output for simplicity\n",
    "        x = x[:, -1, :]  # Shape: [batch_size, d_model]\n",
    "        x = self.output_layer(x)  # Shape: [batch_size, output_size]\n",
    "        return x"
   ]
  },
  {
   "cell_type": "code",
   "execution_count": 7,
   "id": "fee125f9-8e43-4049-bc92-0f1e69ed305d",
   "metadata": {
    "tags": []
   },
   "outputs": [
    {
     "name": "stdout",
     "output_type": "stream",
     "text": [
      "Using device: cuda:1\n",
      "Input data shape: torch.Size([100000, 40, 1])\n",
      "Target data shape: torch.Size([100000, 7])\n",
      "Starting training...\n"
     ]
    },
    {
     "name": "stderr",
     "output_type": "stream",
     "text": [
      "Epoch 1/70 - Training: 100%|██████████| 900/900 [00:56<00:00, 15.90it/s]\n",
      "Epoch 1/70 - Validation: 100%|██████████| 100/100 [00:00<00:00, 207.43it/s]\n"
     ]
    },
    {
     "name": "stdout",
     "output_type": "stream",
     "text": [
      "Epoch 1/70, Train Loss: 2.6844, Val Loss: 1.3116\n"
     ]
    },
    {
     "name": "stderr",
     "output_type": "stream",
     "text": [
      "Epoch 2/70 - Training: 100%|██████████| 900/900 [00:57<00:00, 15.73it/s]\n",
      "Epoch 2/70 - Validation: 100%|██████████| 100/100 [00:00<00:00, 207.97it/s]\n"
     ]
    },
    {
     "name": "stdout",
     "output_type": "stream",
     "text": [
      "Epoch 2/70, Train Loss: 1.2597, Val Loss: 1.2469\n"
     ]
    },
    {
     "name": "stderr",
     "output_type": "stream",
     "text": [
      "Epoch 3/70 - Training: 100%|██████████| 900/900 [00:57<00:00, 15.74it/s]\n",
      "Epoch 3/70 - Validation: 100%|██████████| 100/100 [00:00<00:00, 208.26it/s]\n"
     ]
    },
    {
     "name": "stdout",
     "output_type": "stream",
     "text": [
      "Epoch 3/70, Train Loss: 1.2100, Val Loss: 1.2612\n"
     ]
    },
    {
     "name": "stderr",
     "output_type": "stream",
     "text": [
      "Epoch 4/70 - Training: 100%|██████████| 900/900 [00:56<00:00, 15.88it/s]\n",
      "Epoch 4/70 - Validation: 100%|██████████| 100/100 [00:00<00:00, 208.10it/s]\n"
     ]
    },
    {
     "name": "stdout",
     "output_type": "stream",
     "text": [
      "Epoch 4/70, Train Loss: 1.1799, Val Loss: 1.1664\n"
     ]
    },
    {
     "name": "stderr",
     "output_type": "stream",
     "text": [
      "Epoch 5/70 - Training: 100%|██████████| 900/900 [00:56<00:00, 15.88it/s]\n",
      "Epoch 5/70 - Validation: 100%|██████████| 100/100 [00:00<00:00, 208.32it/s]\n"
     ]
    },
    {
     "name": "stdout",
     "output_type": "stream",
     "text": [
      "Epoch 5/70, Train Loss: 1.1554, Val Loss: 1.1690\n"
     ]
    },
    {
     "name": "stderr",
     "output_type": "stream",
     "text": [
      "Epoch 6/70 - Training: 100%|██████████| 900/900 [00:56<00:00, 15.79it/s]\n",
      "Epoch 6/70 - Validation: 100%|██████████| 100/100 [00:00<00:00, 207.27it/s]\n"
     ]
    },
    {
     "name": "stdout",
     "output_type": "stream",
     "text": [
      "Epoch 6/70, Train Loss: 1.1415, Val Loss: 1.1683\n"
     ]
    },
    {
     "name": "stderr",
     "output_type": "stream",
     "text": [
      "Epoch 7/70 - Training: 100%|██████████| 900/900 [00:56<00:00, 16.05it/s]\n",
      "Epoch 7/70 - Validation: 100%|██████████| 100/100 [00:00<00:00, 209.02it/s]\n"
     ]
    },
    {
     "name": "stdout",
     "output_type": "stream",
     "text": [
      "Epoch 7/70, Train Loss: 1.1273, Val Loss: 1.1109\n"
     ]
    },
    {
     "name": "stderr",
     "output_type": "stream",
     "text": [
      "Epoch 8/70 - Training: 100%|██████████| 900/900 [00:54<00:00, 16.39it/s]\n",
      "Epoch 8/70 - Validation: 100%|██████████| 100/100 [00:00<00:00, 209.13it/s]\n"
     ]
    },
    {
     "name": "stdout",
     "output_type": "stream",
     "text": [
      "Epoch 8/70, Train Loss: 1.1142, Val Loss: 1.1325\n"
     ]
    },
    {
     "name": "stderr",
     "output_type": "stream",
     "text": [
      "Epoch 9/70 - Training: 100%|██████████| 900/900 [00:54<00:00, 16.38it/s]\n",
      "Epoch 9/70 - Validation: 100%|██████████| 100/100 [00:00<00:00, 209.12it/s]\n"
     ]
    },
    {
     "name": "stdout",
     "output_type": "stream",
     "text": [
      "Epoch 9/70, Train Loss: 1.1063, Val Loss: 1.0953\n"
     ]
    },
    {
     "name": "stderr",
     "output_type": "stream",
     "text": [
      "Epoch 10/70 - Training: 100%|██████████| 900/900 [00:54<00:00, 16.40it/s]\n",
      "Epoch 10/70 - Validation: 100%|██████████| 100/100 [00:00<00:00, 208.66it/s]\n"
     ]
    },
    {
     "name": "stdout",
     "output_type": "stream",
     "text": [
      "Epoch 10/70, Train Loss: 1.0943, Val Loss: 1.0969\n"
     ]
    },
    {
     "name": "stderr",
     "output_type": "stream",
     "text": [
      "Epoch 11/70 - Training: 100%|██████████| 900/900 [00:55<00:00, 16.34it/s]\n",
      "Epoch 11/70 - Validation: 100%|██████████| 100/100 [00:00<00:00, 208.72it/s]\n"
     ]
    },
    {
     "name": "stdout",
     "output_type": "stream",
     "text": [
      "Epoch 11/70, Train Loss: 1.0908, Val Loss: 1.0865\n"
     ]
    },
    {
     "name": "stderr",
     "output_type": "stream",
     "text": [
      "Epoch 12/70 - Training: 100%|██████████| 900/900 [00:55<00:00, 16.32it/s]\n",
      "Epoch 12/70 - Validation: 100%|██████████| 100/100 [00:00<00:00, 209.12it/s]\n"
     ]
    },
    {
     "name": "stdout",
     "output_type": "stream",
     "text": [
      "Epoch 12/70, Train Loss: 1.0814, Val Loss: 1.0810\n"
     ]
    },
    {
     "name": "stderr",
     "output_type": "stream",
     "text": [
      "Epoch 13/70 - Training: 100%|██████████| 900/900 [00:55<00:00, 16.34it/s]\n",
      "Epoch 13/70 - Validation: 100%|██████████| 100/100 [00:00<00:00, 208.44it/s]\n"
     ]
    },
    {
     "name": "stdout",
     "output_type": "stream",
     "text": [
      "Epoch 13/70, Train Loss: 1.0768, Val Loss: 1.0667\n"
     ]
    },
    {
     "name": "stderr",
     "output_type": "stream",
     "text": [
      "Epoch 14/70 - Training: 100%|██████████| 900/900 [00:55<00:00, 16.32it/s]\n",
      "Epoch 14/70 - Validation: 100%|██████████| 100/100 [00:00<00:00, 208.93it/s]\n"
     ]
    },
    {
     "name": "stdout",
     "output_type": "stream",
     "text": [
      "Epoch 14/70, Train Loss: 1.0690, Val Loss: 1.0648\n"
     ]
    },
    {
     "name": "stderr",
     "output_type": "stream",
     "text": [
      "Epoch 15/70 - Training: 100%|██████████| 900/900 [00:55<00:00, 16.33it/s]\n",
      "Epoch 15/70 - Validation: 100%|██████████| 100/100 [00:00<00:00, 208.97it/s]\n"
     ]
    },
    {
     "name": "stdout",
     "output_type": "stream",
     "text": [
      "Epoch 15/70, Train Loss: 1.0653, Val Loss: 1.0709\n"
     ]
    },
    {
     "name": "stderr",
     "output_type": "stream",
     "text": [
      "Epoch 16/70 - Training: 100%|██████████| 900/900 [00:55<00:00, 16.32it/s]\n",
      "Epoch 16/70 - Validation: 100%|██████████| 100/100 [00:00<00:00, 208.01it/s]\n"
     ]
    },
    {
     "name": "stdout",
     "output_type": "stream",
     "text": [
      "Epoch 16/70, Train Loss: 1.0608, Val Loss: 1.0584\n"
     ]
    },
    {
     "name": "stderr",
     "output_type": "stream",
     "text": [
      "Epoch 17/70 - Training: 100%|██████████| 900/900 [00:57<00:00, 15.77it/s]\n",
      "Epoch 17/70 - Validation: 100%|██████████| 100/100 [00:00<00:00, 207.82it/s]\n"
     ]
    },
    {
     "name": "stdout",
     "output_type": "stream",
     "text": [
      "Epoch 17/70, Train Loss: 1.0548, Val Loss: 1.0527\n"
     ]
    },
    {
     "name": "stderr",
     "output_type": "stream",
     "text": [
      "Epoch 18/70 - Training: 100%|██████████| 900/900 [00:57<00:00, 15.78it/s]\n",
      "Epoch 18/70 - Validation: 100%|██████████| 100/100 [00:00<00:00, 207.74it/s]\n"
     ]
    },
    {
     "name": "stdout",
     "output_type": "stream",
     "text": [
      "Epoch 18/70, Train Loss: 1.0521, Val Loss: 1.0698\n"
     ]
    },
    {
     "name": "stderr",
     "output_type": "stream",
     "text": [
      "Epoch 19/70 - Training: 100%|██████████| 900/900 [00:56<00:00, 15.81it/s]\n",
      "Epoch 19/70 - Validation: 100%|██████████| 100/100 [00:00<00:00, 208.09it/s]\n"
     ]
    },
    {
     "name": "stdout",
     "output_type": "stream",
     "text": [
      "Epoch 19/70, Train Loss: 1.0445, Val Loss: 1.0485\n"
     ]
    },
    {
     "name": "stderr",
     "output_type": "stream",
     "text": [
      "Epoch 20/70 - Training: 100%|██████████| 900/900 [00:56<00:00, 15.83it/s]\n",
      "Epoch 20/70 - Validation: 100%|██████████| 100/100 [00:00<00:00, 208.28it/s]\n"
     ]
    },
    {
     "name": "stdout",
     "output_type": "stream",
     "text": [
      "Epoch 20/70, Train Loss: 1.0437, Val Loss: 1.0310\n"
     ]
    },
    {
     "name": "stderr",
     "output_type": "stream",
     "text": [
      "Epoch 21/70 - Training: 100%|██████████| 900/900 [00:57<00:00, 15.78it/s]\n",
      "Epoch 21/70 - Validation: 100%|██████████| 100/100 [00:00<00:00, 207.67it/s]\n"
     ]
    },
    {
     "name": "stdout",
     "output_type": "stream",
     "text": [
      "Epoch 21/70, Train Loss: 1.0368, Val Loss: 1.0395\n"
     ]
    },
    {
     "name": "stderr",
     "output_type": "stream",
     "text": [
      "Epoch 22/70 - Training: 100%|██████████| 900/900 [00:55<00:00, 16.19it/s]\n",
      "Epoch 22/70 - Validation: 100%|██████████| 100/100 [00:00<00:00, 208.26it/s]\n"
     ]
    },
    {
     "name": "stdout",
     "output_type": "stream",
     "text": [
      "Epoch 22/70, Train Loss: 1.0371, Val Loss: 1.0379\n"
     ]
    },
    {
     "name": "stderr",
     "output_type": "stream",
     "text": [
      "Epoch 23/70 - Training: 100%|██████████| 900/900 [00:55<00:00, 16.17it/s]\n",
      "Epoch 23/70 - Validation: 100%|██████████| 100/100 [00:00<00:00, 207.89it/s]\n"
     ]
    },
    {
     "name": "stdout",
     "output_type": "stream",
     "text": [
      "Epoch 23/70, Train Loss: 1.0335, Val Loss: 1.0264\n"
     ]
    },
    {
     "name": "stderr",
     "output_type": "stream",
     "text": [
      "Epoch 24/70 - Training: 100%|██████████| 900/900 [00:55<00:00, 16.20it/s]\n",
      "Epoch 24/70 - Validation: 100%|██████████| 100/100 [00:00<00:00, 207.03it/s]\n"
     ]
    },
    {
     "name": "stdout",
     "output_type": "stream",
     "text": [
      "Epoch 24/70, Train Loss: 1.0304, Val Loss: 1.0278\n"
     ]
    },
    {
     "name": "stderr",
     "output_type": "stream",
     "text": [
      "Epoch 25/70 - Training: 100%|██████████| 900/900 [00:55<00:00, 16.18it/s]\n",
      "Epoch 25/70 - Validation: 100%|██████████| 100/100 [00:00<00:00, 208.34it/s]\n"
     ]
    },
    {
     "name": "stdout",
     "output_type": "stream",
     "text": [
      "Epoch 25/70, Train Loss: 1.0260, Val Loss: 1.0257\n"
     ]
    },
    {
     "name": "stderr",
     "output_type": "stream",
     "text": [
      "Epoch 26/70 - Training: 100%|██████████| 900/900 [00:55<00:00, 16.20it/s]\n",
      "Epoch 26/70 - Validation: 100%|██████████| 100/100 [00:00<00:00, 207.44it/s]\n"
     ]
    },
    {
     "name": "stdout",
     "output_type": "stream",
     "text": [
      "Epoch 26/70, Train Loss: 1.0259, Val Loss: 1.0174\n"
     ]
    },
    {
     "name": "stderr",
     "output_type": "stream",
     "text": [
      "Epoch 27/70 - Training: 100%|██████████| 900/900 [00:55<00:00, 16.14it/s]\n",
      "Epoch 27/70 - Validation: 100%|██████████| 100/100 [00:00<00:00, 207.52it/s]\n"
     ]
    },
    {
     "name": "stdout",
     "output_type": "stream",
     "text": [
      "Epoch 27/70, Train Loss: 1.0212, Val Loss: 1.0286\n"
     ]
    },
    {
     "name": "stderr",
     "output_type": "stream",
     "text": [
      "Epoch 28/70 - Training: 100%|██████████| 900/900 [00:55<00:00, 16.21it/s]\n",
      "Epoch 28/70 - Validation: 100%|██████████| 100/100 [00:00<00:00, 207.57it/s]\n"
     ]
    },
    {
     "name": "stdout",
     "output_type": "stream",
     "text": [
      "Epoch 28/70, Train Loss: 1.0196, Val Loss: 1.0260\n"
     ]
    },
    {
     "name": "stderr",
     "output_type": "stream",
     "text": [
      "Epoch 29/70 - Training: 100%|██████████| 900/900 [00:55<00:00, 16.16it/s]\n",
      "Epoch 29/70 - Validation: 100%|██████████| 100/100 [00:00<00:00, 207.52it/s]\n"
     ]
    },
    {
     "name": "stdout",
     "output_type": "stream",
     "text": [
      "Epoch 29/70, Train Loss: 1.0173, Val Loss: 1.0311\n"
     ]
    },
    {
     "name": "stderr",
     "output_type": "stream",
     "text": [
      "Epoch 30/70 - Training: 100%|██████████| 900/900 [00:55<00:00, 16.21it/s]\n",
      "Epoch 30/70 - Validation: 100%|██████████| 100/100 [00:00<00:00, 207.67it/s]\n"
     ]
    },
    {
     "name": "stdout",
     "output_type": "stream",
     "text": [
      "Epoch 30/70, Train Loss: 1.0146, Val Loss: 1.0233\n"
     ]
    },
    {
     "name": "stderr",
     "output_type": "stream",
     "text": [
      "Epoch 31/70 - Training: 100%|██████████| 900/900 [00:55<00:00, 16.18it/s]\n",
      "Epoch 31/70 - Validation: 100%|██████████| 100/100 [00:00<00:00, 207.27it/s]\n"
     ]
    },
    {
     "name": "stdout",
     "output_type": "stream",
     "text": [
      "Epoch 31/70, Train Loss: 1.0118, Val Loss: 1.0284\n"
     ]
    },
    {
     "name": "stderr",
     "output_type": "stream",
     "text": [
      "Epoch 32/70 - Training: 100%|██████████| 900/900 [00:55<00:00, 16.16it/s]\n",
      "Epoch 32/70 - Validation: 100%|██████████| 100/100 [00:00<00:00, 207.20it/s]\n"
     ]
    },
    {
     "name": "stdout",
     "output_type": "stream",
     "text": [
      "Epoch 32/70, Train Loss: 1.0117, Val Loss: 1.0285\n"
     ]
    },
    {
     "name": "stderr",
     "output_type": "stream",
     "text": [
      "Epoch 33/70 - Training: 100%|██████████| 900/900 [00:55<00:00, 16.13it/s]\n",
      "Epoch 33/70 - Validation: 100%|██████████| 100/100 [00:00<00:00, 207.66it/s]\n"
     ]
    },
    {
     "name": "stdout",
     "output_type": "stream",
     "text": [
      "Epoch 33/70, Train Loss: 1.0087, Val Loss: 1.0185\n"
     ]
    },
    {
     "name": "stderr",
     "output_type": "stream",
     "text": [
      "Epoch 34/70 - Training: 100%|██████████| 900/900 [00:55<00:00, 16.15it/s]\n",
      "Epoch 34/70 - Validation: 100%|██████████| 100/100 [00:00<00:00, 208.40it/s]\n"
     ]
    },
    {
     "name": "stdout",
     "output_type": "stream",
     "text": [
      "Epoch 34/70, Train Loss: 1.0068, Val Loss: 1.0114\n"
     ]
    },
    {
     "name": "stderr",
     "output_type": "stream",
     "text": [
      "Epoch 35/70 - Training: 100%|██████████| 900/900 [00:55<00:00, 16.21it/s]\n",
      "Epoch 35/70 - Validation: 100%|██████████| 100/100 [00:00<00:00, 209.25it/s]\n"
     ]
    },
    {
     "name": "stdout",
     "output_type": "stream",
     "text": [
      "Epoch 35/70, Train Loss: 1.0062, Val Loss: 1.0106\n"
     ]
    },
    {
     "name": "stderr",
     "output_type": "stream",
     "text": [
      "Epoch 36/70 - Training: 100%|██████████| 900/900 [00:55<00:00, 16.25it/s]\n",
      "Epoch 36/70 - Validation: 100%|██████████| 100/100 [00:00<00:00, 208.29it/s]\n"
     ]
    },
    {
     "name": "stdout",
     "output_type": "stream",
     "text": [
      "Epoch 36/70, Train Loss: 1.0021, Val Loss: 1.0064\n"
     ]
    },
    {
     "name": "stderr",
     "output_type": "stream",
     "text": [
      "Epoch 37/70 - Training: 100%|██████████| 900/900 [00:55<00:00, 16.28it/s]\n",
      "Epoch 37/70 - Validation: 100%|██████████| 100/100 [00:00<00:00, 208.39it/s]\n"
     ]
    },
    {
     "name": "stdout",
     "output_type": "stream",
     "text": [
      "Epoch 37/70, Train Loss: 1.0020, Val Loss: 1.0228\n"
     ]
    },
    {
     "name": "stderr",
     "output_type": "stream",
     "text": [
      "Epoch 38/70 - Training: 100%|██████████| 900/900 [00:55<00:00, 16.26it/s]\n",
      "Epoch 38/70 - Validation: 100%|██████████| 100/100 [00:00<00:00, 208.78it/s]\n"
     ]
    },
    {
     "name": "stdout",
     "output_type": "stream",
     "text": [
      "Epoch 38/70, Train Loss: 1.0005, Val Loss: 1.0064\n"
     ]
    },
    {
     "name": "stderr",
     "output_type": "stream",
     "text": [
      "Epoch 39/70 - Training: 100%|██████████| 900/900 [00:55<00:00, 16.22it/s]\n",
      "Epoch 39/70 - Validation: 100%|██████████| 100/100 [00:00<00:00, 207.71it/s]\n"
     ]
    },
    {
     "name": "stdout",
     "output_type": "stream",
     "text": [
      "Epoch 39/70, Train Loss: 0.9968, Val Loss: 1.0067\n"
     ]
    },
    {
     "name": "stderr",
     "output_type": "stream",
     "text": [
      "Epoch 40/70 - Training: 100%|██████████| 900/900 [00:55<00:00, 16.23it/s]\n",
      "Epoch 40/70 - Validation: 100%|██████████| 100/100 [00:00<00:00, 207.82it/s]\n"
     ]
    },
    {
     "name": "stdout",
     "output_type": "stream",
     "text": [
      "Epoch 40/70, Train Loss: 0.9962, Val Loss: 0.9980\n"
     ]
    },
    {
     "name": "stderr",
     "output_type": "stream",
     "text": [
      "Epoch 41/70 - Training: 100%|██████████| 900/900 [00:55<00:00, 16.23it/s]\n",
      "Epoch 41/70 - Validation: 100%|██████████| 100/100 [00:00<00:00, 207.38it/s]\n"
     ]
    },
    {
     "name": "stdout",
     "output_type": "stream",
     "text": [
      "Epoch 41/70, Train Loss: 0.9946, Val Loss: 1.0070\n"
     ]
    },
    {
     "name": "stderr",
     "output_type": "stream",
     "text": [
      "Epoch 42/70 - Training: 100%|██████████| 900/900 [00:55<00:00, 16.17it/s]\n",
      "Epoch 42/70 - Validation: 100%|██████████| 100/100 [00:00<00:00, 207.50it/s]\n"
     ]
    },
    {
     "name": "stdout",
     "output_type": "stream",
     "text": [
      "Epoch 42/70, Train Loss: 0.9951, Val Loss: 1.0185\n"
     ]
    },
    {
     "name": "stderr",
     "output_type": "stream",
     "text": [
      "Epoch 43/70 - Training: 100%|██████████| 900/900 [00:55<00:00, 16.21it/s]\n",
      "Epoch 43/70 - Validation: 100%|██████████| 100/100 [00:00<00:00, 207.21it/s]\n"
     ]
    },
    {
     "name": "stdout",
     "output_type": "stream",
     "text": [
      "Epoch 43/70, Train Loss: 0.9939, Val Loss: 1.0122\n"
     ]
    },
    {
     "name": "stderr",
     "output_type": "stream",
     "text": [
      "Epoch 44/70 - Training: 100%|██████████| 900/900 [00:55<00:00, 16.20it/s]\n",
      "Epoch 44/70 - Validation: 100%|██████████| 100/100 [00:00<00:00, 207.76it/s]\n"
     ]
    },
    {
     "name": "stdout",
     "output_type": "stream",
     "text": [
      "Epoch 44/70, Train Loss: 0.9909, Val Loss: 1.0058\n"
     ]
    },
    {
     "name": "stderr",
     "output_type": "stream",
     "text": [
      "Epoch 45/70 - Training: 100%|██████████| 900/900 [00:55<00:00, 16.19it/s]\n",
      "Epoch 45/70 - Validation: 100%|██████████| 100/100 [00:00<00:00, 207.89it/s]\n"
     ]
    },
    {
     "name": "stdout",
     "output_type": "stream",
     "text": [
      "Epoch 45/70, Train Loss: 0.9886, Val Loss: 1.0013\n"
     ]
    },
    {
     "name": "stderr",
     "output_type": "stream",
     "text": [
      "Epoch 46/70 - Training: 100%|██████████| 900/900 [00:55<00:00, 16.17it/s]\n",
      "Epoch 46/70 - Validation: 100%|██████████| 100/100 [00:00<00:00, 207.85it/s]\n"
     ]
    },
    {
     "name": "stdout",
     "output_type": "stream",
     "text": [
      "Epoch 46/70, Train Loss: 0.9896, Val Loss: 0.9902\n"
     ]
    },
    {
     "name": "stderr",
     "output_type": "stream",
     "text": [
      "Epoch 47/70 - Training: 100%|██████████| 900/900 [00:55<00:00, 16.21it/s]\n",
      "Epoch 47/70 - Validation: 100%|██████████| 100/100 [00:00<00:00, 207.86it/s]\n"
     ]
    },
    {
     "name": "stdout",
     "output_type": "stream",
     "text": [
      "Epoch 47/70, Train Loss: 0.9867, Val Loss: 0.9912\n"
     ]
    },
    {
     "name": "stderr",
     "output_type": "stream",
     "text": [
      "Epoch 48/70 - Training: 100%|██████████| 900/900 [00:55<00:00, 16.23it/s]\n",
      "Epoch 48/70 - Validation: 100%|██████████| 100/100 [00:00<00:00, 208.08it/s]\n"
     ]
    },
    {
     "name": "stdout",
     "output_type": "stream",
     "text": [
      "Epoch 48/70, Train Loss: 0.9849, Val Loss: 0.9905\n"
     ]
    },
    {
     "name": "stderr",
     "output_type": "stream",
     "text": [
      "Epoch 49/70 - Training: 100%|██████████| 900/900 [00:55<00:00, 16.19it/s]\n",
      "Epoch 49/70 - Validation: 100%|██████████| 100/100 [00:00<00:00, 207.18it/s]\n"
     ]
    },
    {
     "name": "stdout",
     "output_type": "stream",
     "text": [
      "Epoch 49/70, Train Loss: 0.9851, Val Loss: 1.0025\n"
     ]
    },
    {
     "name": "stderr",
     "output_type": "stream",
     "text": [
      "Epoch 50/70 - Training: 100%|██████████| 900/900 [00:56<00:00, 15.98it/s]\n",
      "Epoch 50/70 - Validation: 100%|██████████| 100/100 [00:00<00:00, 207.16it/s]\n"
     ]
    },
    {
     "name": "stdout",
     "output_type": "stream",
     "text": [
      "Epoch 50/70, Train Loss: 0.9837, Val Loss: 1.0102\n"
     ]
    },
    {
     "name": "stderr",
     "output_type": "stream",
     "text": [
      "Epoch 51/70 - Training: 100%|██████████| 900/900 [00:57<00:00, 15.78it/s]\n",
      "Epoch 51/70 - Validation: 100%|██████████| 100/100 [00:00<00:00, 207.20it/s]\n"
     ]
    },
    {
     "name": "stdout",
     "output_type": "stream",
     "text": [
      "Epoch 51/70, Train Loss: 0.9828, Val Loss: 1.0042\n"
     ]
    },
    {
     "name": "stderr",
     "output_type": "stream",
     "text": [
      "Epoch 52/70 - Training: 100%|██████████| 900/900 [00:55<00:00, 16.20it/s]\n",
      "Epoch 52/70 - Validation: 100%|██████████| 100/100 [00:00<00:00, 207.42it/s]\n"
     ]
    },
    {
     "name": "stdout",
     "output_type": "stream",
     "text": [
      "Epoch 52/70, Train Loss: 0.9823, Val Loss: 0.9960\n"
     ]
    },
    {
     "name": "stderr",
     "output_type": "stream",
     "text": [
      "Epoch 53/70 - Training: 100%|██████████| 900/900 [00:55<00:00, 16.15it/s]\n",
      "Epoch 53/70 - Validation: 100%|██████████| 100/100 [00:00<00:00, 207.40it/s]\n"
     ]
    },
    {
     "name": "stdout",
     "output_type": "stream",
     "text": [
      "Epoch 53/70, Train Loss: 0.9810, Val Loss: 1.0040\n"
     ]
    },
    {
     "name": "stderr",
     "output_type": "stream",
     "text": [
      "Epoch 54/70 - Training: 100%|██████████| 900/900 [00:55<00:00, 16.16it/s]\n",
      "Epoch 54/70 - Validation: 100%|██████████| 100/100 [00:00<00:00, 207.64it/s]\n"
     ]
    },
    {
     "name": "stdout",
     "output_type": "stream",
     "text": [
      "Epoch 54/70, Train Loss: 0.9806, Val Loss: 0.9924\n"
     ]
    },
    {
     "name": "stderr",
     "output_type": "stream",
     "text": [
      "Epoch 55/70 - Training: 100%|██████████| 900/900 [00:55<00:00, 16.19it/s]\n",
      "Epoch 55/70 - Validation: 100%|██████████| 100/100 [00:00<00:00, 207.97it/s]\n"
     ]
    },
    {
     "name": "stdout",
     "output_type": "stream",
     "text": [
      "Epoch 55/70, Train Loss: 0.9783, Val Loss: 0.9921\n"
     ]
    },
    {
     "name": "stderr",
     "output_type": "stream",
     "text": [
      "Epoch 56/70 - Training: 100%|██████████| 900/900 [00:55<00:00, 16.21it/s]\n",
      "Epoch 56/70 - Validation: 100%|██████████| 100/100 [00:00<00:00, 207.95it/s]\n"
     ]
    },
    {
     "name": "stdout",
     "output_type": "stream",
     "text": [
      "Epoch 56/70, Train Loss: 0.9774, Val Loss: 1.0023\n"
     ]
    },
    {
     "name": "stderr",
     "output_type": "stream",
     "text": [
      "Epoch 57/70 - Training: 100%|██████████| 900/900 [00:55<00:00, 16.21it/s]\n",
      "Epoch 57/70 - Validation: 100%|██████████| 100/100 [00:00<00:00, 207.09it/s]\n"
     ]
    },
    {
     "name": "stdout",
     "output_type": "stream",
     "text": [
      "Epoch 57/70, Train Loss: 0.9770, Val Loss: 0.9913\n"
     ]
    },
    {
     "name": "stderr",
     "output_type": "stream",
     "text": [
      "Epoch 58/70 - Training: 100%|██████████| 900/900 [00:55<00:00, 16.18it/s]\n",
      "Epoch 58/70 - Validation: 100%|██████████| 100/100 [00:00<00:00, 207.95it/s]\n"
     ]
    },
    {
     "name": "stdout",
     "output_type": "stream",
     "text": [
      "Epoch 58/70, Train Loss: 0.9768, Val Loss: 0.9942\n"
     ]
    },
    {
     "name": "stderr",
     "output_type": "stream",
     "text": [
      "Epoch 59/70 - Training: 100%|██████████| 900/900 [00:55<00:00, 16.20it/s]\n",
      "Epoch 59/70 - Validation: 100%|██████████| 100/100 [00:00<00:00, 207.59it/s]\n"
     ]
    },
    {
     "name": "stdout",
     "output_type": "stream",
     "text": [
      "Epoch 59/70, Train Loss: 0.9755, Val Loss: 0.9858\n"
     ]
    },
    {
     "name": "stderr",
     "output_type": "stream",
     "text": [
      "Epoch 60/70 - Training: 100%|██████████| 900/900 [00:55<00:00, 16.19it/s]\n",
      "Epoch 60/70 - Validation: 100%|██████████| 100/100 [00:00<00:00, 207.44it/s]\n"
     ]
    },
    {
     "name": "stdout",
     "output_type": "stream",
     "text": [
      "Epoch 60/70, Train Loss: 0.9748, Val Loss: 1.0006\n"
     ]
    },
    {
     "name": "stderr",
     "output_type": "stream",
     "text": [
      "Epoch 61/70 - Training: 100%|██████████| 900/900 [00:55<00:00, 16.16it/s]\n",
      "Epoch 61/70 - Validation: 100%|██████████| 100/100 [00:00<00:00, 207.34it/s]\n"
     ]
    },
    {
     "name": "stdout",
     "output_type": "stream",
     "text": [
      "Epoch 61/70, Train Loss: 0.9722, Val Loss: 1.0168\n"
     ]
    },
    {
     "name": "stderr",
     "output_type": "stream",
     "text": [
      "Epoch 62/70 - Training: 100%|██████████| 900/900 [00:55<00:00, 16.23it/s]\n",
      "Epoch 62/70 - Validation: 100%|██████████| 100/100 [00:00<00:00, 207.26it/s]\n"
     ]
    },
    {
     "name": "stdout",
     "output_type": "stream",
     "text": [
      "Epoch 62/70, Train Loss: 0.9734, Val Loss: 0.9909\n"
     ]
    },
    {
     "name": "stderr",
     "output_type": "stream",
     "text": [
      "Epoch 63/70 - Training: 100%|██████████| 900/900 [00:55<00:00, 16.21it/s]\n",
      "Epoch 63/70 - Validation: 100%|██████████| 100/100 [00:00<00:00, 207.44it/s]\n"
     ]
    },
    {
     "name": "stdout",
     "output_type": "stream",
     "text": [
      "Epoch 63/70, Train Loss: 0.9715, Val Loss: 0.9778\n"
     ]
    },
    {
     "name": "stderr",
     "output_type": "stream",
     "text": [
      "Epoch 64/70 - Training: 100%|██████████| 900/900 [00:55<00:00, 16.21it/s]\n",
      "Epoch 64/70 - Validation: 100%|██████████| 100/100 [00:00<00:00, 207.49it/s]\n"
     ]
    },
    {
     "name": "stdout",
     "output_type": "stream",
     "text": [
      "Epoch 64/70, Train Loss: 0.9701, Val Loss: 0.9845\n"
     ]
    },
    {
     "name": "stderr",
     "output_type": "stream",
     "text": [
      "Epoch 65/70 - Training: 100%|██████████| 900/900 [00:55<00:00, 16.22it/s]\n",
      "Epoch 65/70 - Validation: 100%|██████████| 100/100 [00:00<00:00, 207.76it/s]\n"
     ]
    },
    {
     "name": "stdout",
     "output_type": "stream",
     "text": [
      "Epoch 65/70, Train Loss: 0.9704, Val Loss: 0.9945\n"
     ]
    },
    {
     "name": "stderr",
     "output_type": "stream",
     "text": [
      "Epoch 66/70 - Training: 100%|██████████| 900/900 [00:55<00:00, 16.20it/s]\n",
      "Epoch 66/70 - Validation: 100%|██████████| 100/100 [00:00<00:00, 207.68it/s]\n"
     ]
    },
    {
     "name": "stdout",
     "output_type": "stream",
     "text": [
      "Epoch 66/70, Train Loss: 0.9682, Val Loss: 0.9995\n"
     ]
    },
    {
     "name": "stderr",
     "output_type": "stream",
     "text": [
      "Epoch 67/70 - Training: 100%|██████████| 900/900 [00:55<00:00, 16.24it/s]\n",
      "Epoch 67/70 - Validation: 100%|██████████| 100/100 [00:00<00:00, 207.30it/s]\n"
     ]
    },
    {
     "name": "stdout",
     "output_type": "stream",
     "text": [
      "Epoch 67/70, Train Loss: 0.9682, Val Loss: 0.9913\n"
     ]
    },
    {
     "name": "stderr",
     "output_type": "stream",
     "text": [
      "Epoch 68/70 - Training: 100%|██████████| 900/900 [00:55<00:00, 16.24it/s]\n",
      "Epoch 68/70 - Validation: 100%|██████████| 100/100 [00:00<00:00, 207.77it/s]\n"
     ]
    },
    {
     "name": "stdout",
     "output_type": "stream",
     "text": [
      "Epoch 68/70, Train Loss: 0.9675, Val Loss: 0.9838\n"
     ]
    },
    {
     "name": "stderr",
     "output_type": "stream",
     "text": [
      "Epoch 69/70 - Training: 100%|██████████| 900/900 [00:55<00:00, 16.22it/s]\n",
      "Epoch 69/70 - Validation: 100%|██████████| 100/100 [00:00<00:00, 207.79it/s]\n"
     ]
    },
    {
     "name": "stdout",
     "output_type": "stream",
     "text": [
      "Epoch 69/70, Train Loss: 0.9686, Val Loss: 0.9855\n"
     ]
    },
    {
     "name": "stderr",
     "output_type": "stream",
     "text": [
      "Epoch 70/70 - Training: 100%|██████████| 900/900 [00:55<00:00, 16.24it/s]\n",
      "Epoch 70/70 - Validation: 100%|██████████| 100/100 [00:00<00:00, 207.51it/s]\n"
     ]
    },
    {
     "name": "stdout",
     "output_type": "stream",
     "text": [
      "Epoch 70/70, Train Loss: 0.9655, Val Loss: 0.9941\n",
      "\n",
      "Evaluating model...\n"
     ]
    },
    {
     "name": "stderr",
     "output_type": "stream",
     "text": [
      "Evaluating: 100%|██████████| 100/100 [00:00<00:00, 206.73it/s]"
     ]
    },
    {
     "name": "stdout",
     "output_type": "stream",
     "text": [
      "Validation Loss: 0.9941\n",
      "Training and evaluation completed. Model saved.\n"
     ]
    },
    {
     "name": "stderr",
     "output_type": "stream",
     "text": [
      "\n"
     ]
    }
   ],
   "source": [
    "# Create the model with output layer\n",
    "n_params = train_theta.shape[1]\n",
    "model = MambaWithOutputLayer(seq_len=seq_len, d_model=d_model, state_size=state_size, \n",
    "                            output_size=n_params, device=device).to(device)\n",
    "\n",
    "# Define loss function and optimizer\n",
    "criterion = nn.MSELoss()\n",
    "optimizer = optim.Adam(model.parameters(), lr=LEARNING_RATE)\n",
    "\n",
    "# Training loop\n",
    "def train():\n",
    "    train_losses = []\n",
    "    val_losses = []\n",
    "    \n",
    "    for epoch in range(EPOCHS):\n",
    "        model.train()\n",
    "        running_loss = 0.0\n",
    "        \n",
    "        # Training\n",
    "        for inputs, targets in tqdm(train_loader, desc=f\"Epoch {epoch+1}/{EPOCHS} - Training\"):\n",
    "            inputs = inputs.to(device)\n",
    "            targets = targets.to(device)\n",
    "            \n",
    "            # Zero the parameter gradients\n",
    "            optimizer.zero_grad()\n",
    "            \n",
    "            # Forward pass\n",
    "            outputs = model(inputs)\n",
    "            loss = criterion(outputs, targets)\n",
    "            \n",
    "            # Backward pass and optimize\n",
    "            loss.backward()\n",
    "            optimizer.step()\n",
    "            \n",
    "            running_loss += loss.item() * inputs.size(0)\n",
    "            \n",
    "        epoch_train_loss = running_loss / len(train_loader.dataset)\n",
    "        train_losses.append(epoch_train_loss)\n",
    "        \n",
    "        # Validation\n",
    "        model.eval()\n",
    "        running_val_loss = 0.0\n",
    "        \n",
    "        with torch.no_grad():\n",
    "            for inputs, targets in tqdm(val_loader, desc=f\"Epoch {epoch+1}/{EPOCHS} - Validation\"):\n",
    "                inputs = inputs.to(device)\n",
    "                targets = targets.to(device)\n",
    "                \n",
    "                outputs = model(inputs)\n",
    "                loss = criterion(outputs, targets)\n",
    "                \n",
    "                running_val_loss += loss.item() * inputs.size(0)\n",
    "                \n",
    "        epoch_val_loss = running_val_loss / len(val_loader.dataset)\n",
    "        val_losses.append(epoch_val_loss)\n",
    "        \n",
    "        print(f\"Epoch {epoch+1}/{EPOCHS}, \"\n",
    "              f\"Train Loss: {epoch_train_loss:.4f}, \"\n",
    "              f\"Val Loss: {epoch_val_loss:.4f}\")\n",
    "        \n",
    "        # Save model checkpoint\n",
    "        if (epoch + 1) % 10 == 0:\n",
    "            torch.save({\n",
    "                'epoch': epoch,\n",
    "                'model_state_dict': model.state_dict(),\n",
    "                'optimizer_state_dict': optimizer.state_dict(),\n",
    "                'train_loss': epoch_train_loss,\n",
    "                'val_loss': epoch_val_loss,\n",
    "            }, f'mamba_checkpoint_epoch_{epoch+1}.pt')\n",
    "    \n",
    "    return train_losses, val_losses\n",
    "\n",
    "# Plot training and validation loss\n",
    "def plot_loss(train_losses, val_losses):\n",
    "    plt.figure(figsize=(10, 6))\n",
    "    plt.plot(train_losses, label='Training Loss')\n",
    "    plt.plot(val_losses, label='Validation Loss')\n",
    "    plt.xlabel('Epochs')\n",
    "    plt.ylabel('Loss')\n",
    "    plt.title('Training and Validation Loss')\n",
    "    plt.legend()\n",
    "    plt.savefig('loss_plot.png')\n",
    "    plt.close()\n",
    "\n",
    "# Evaluate the model on the validation set\n",
    "def evaluate():\n",
    "    model.eval()\n",
    "    val_loss = 0.0\n",
    "    all_outputs = []\n",
    "    all_targets = []\n",
    "    \n",
    "    with torch.no_grad():\n",
    "        for inputs, targets in tqdm(val_loader, desc=\"Evaluating\"):\n",
    "            inputs = inputs.to(device)\n",
    "            targets = targets.to(device)\n",
    "            \n",
    "            outputs = model(inputs)\n",
    "            loss = criterion(outputs, targets)\n",
    "            \n",
    "            val_loss += loss.item() * inputs.size(0)\n",
    "            \n",
    "            all_outputs.append(outputs.cpu().numpy())\n",
    "            all_targets.append(targets.cpu().numpy())\n",
    "    \n",
    "    # Calculate average loss\n",
    "    avg_val_loss = val_loss / len(val_loader.dataset)\n",
    "    print(f\"Validation Loss: {avg_val_loss:.4f}\")\n",
    "    \n",
    "    # Concatenate all outputs and targets\n",
    "    all_outputs = np.concatenate(all_outputs, axis=0)\n",
    "    all_targets = np.concatenate(all_targets, axis=0)\n",
    "    \n",
    "    return avg_val_loss\n",
    "\n",
    "if __name__ == \"__main__\":\n",
    "    print(\"Starting training...\")\n",
    "    train_losses, val_losses = train()\n",
    "    plot_loss(train_losses, val_losses)\n",
    "    \n",
    "    print(\"\\nEvaluating model...\")\n",
    "    avg_val_loss = evaluate()\n",
    "    \n",
    "    print(\"Training and evaluation completed. Model saved.\")"
   ]
  },
  {
   "cell_type": "code",
   "execution_count": 8,
   "id": "2d141008-51a5-4491-be84-f90d849ffb17",
   "metadata": {},
   "outputs": [
    {
     "name": "stderr",
     "output_type": "stream",
     "text": [
      "Evaluating: 100%|██████████| 10/10 [00:00<00:00, 237.89it/s]\n"
     ]
    }
   ],
   "source": [
    "# Test the trained model on a test set from a specific simulator\n",
    "def test_mamba(sim):\n",
    "    # Load files and initialize datasets\n",
    "    test_x = torch.load(f'test_sims/test_x_{sim}.pt')\n",
    "    test_x = test_x.reshape(test_x.shape[0], test_x.shape[1], 1)\n",
    "    test_theta = torch.load(f'test_sims/test_theta_{sim}.pt')\n",
    "    test_dataset = TensorDataset(test_x, test_theta)\n",
    "    test_loader = DataLoader(test_dataset, batch_size=BATCH_SIZE, shuffle=False) # Can't shuffle if you want meaningful results :)\n",
    "\n",
    "    # Begin evaluating\n",
    "    predictions = []\n",
    "    with torch.no_grad():\n",
    "            for inputs, targets in tqdm(test_loader, desc=\"Evaluating\"):\n",
    "                inputs = inputs.to(device)\n",
    "                targets = targets.to(device)\n",
    "\n",
    "                outputs = model(inputs)\n",
    "                predictions.append(outputs)\n",
    "\n",
    "    # Get all predictions\n",
    "    predictions = torch.cat(predictions)\n",
    "    torch.save(predictions, f'test_sims/predictions_{sim}_mamba_combined.pt')\n",
    "    \n",
    "    return predictions, test_theta\n",
    "\n",
    "for sim in ['combined']:\n",
    "    y = test_mamba(sim)"
   ]
  },
  {
   "cell_type": "code",
   "execution_count": 9,
   "id": "d8232ba1-aa64-4db6-8fe3-5a8219ed2749",
   "metadata": {},
   "outputs": [
    {
     "data": {
      "text/plain": [
       "44687"
      ]
     },
     "execution_count": 9,
     "metadata": {},
     "output_type": "execute_result"
    }
   ],
   "source": [
    "# Count parameters in the Mamba model\n",
    "# Specifically here I show the 2-mutation, therefore numbers are different from Table 1\n",
    "def count_parameters(model):\n",
    "    return sum(p.numel() for p in model.parameters() if p.requires_grad)\n",
    "count_parameters(model)"
   ]
  },
  {
   "cell_type": "code",
   "execution_count": null,
   "id": "1df2f94a-27e2-4102-bb44-bfe45638fe5e",
   "metadata": {},
   "outputs": [],
   "source": []
  }
 ],
 "metadata": {
  "kernelspec": {
   "display_name": "Python 3 (ipykernel)",
   "language": "python",
   "name": "python3"
  },
  "language_info": {
   "codemirror_mode": {
    "name": "ipython",
    "version": 3
   },
   "file_extension": ".py",
   "mimetype": "text/x-python",
   "name": "python",
   "nbconvert_exporter": "python",
   "pygments_lexer": "ipython3",
   "version": "3.9.20"
  }
 },
 "nbformat": 4,
 "nbformat_minor": 5
}
