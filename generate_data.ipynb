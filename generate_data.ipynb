{
 "cells": [
  {
   "cell_type": "code",
   "execution_count": 2,
   "id": "a0f030c2-1bc7-45d9-a687-f69e4f7fbcfc",
   "metadata": {},
   "outputs": [
    {
     "name": "stderr",
     "output_type": "stream",
     "text": [
      "\n",
      "KeyboardInterrupt\n",
      "\n"
     ]
    }
   ],
   "source": [
    "# inference with NPE\n",
    "from evo_models import WF\n",
    "from inference_utils import get_prior\n",
    "from sbi.inference import NPE, NLE, NRE, NPSE\n",
    "from sbi.utils.user_input_checks import (\n",
    "    check_sbi_inputs,\n",
    "    process_prior,\n",
    "    process_simulator,\n",
    ")\n",
    "\n",
    "import torch\n",
    "import pickle\n",
    "\n",
    "# Define the prior\n",
    "prior = get_prior()\n",
    "\n",
    "# Define the simulator\n",
    "def simulator(theta):\n",
    "    s = 10**theta[0].item()\n",
    "    mu = 10**theta[1].item()\n",
    "    N = int(1e8)\n",
    "    G = 200\n",
    "    res = WF(s, mu, N, G)\n",
    "    return torch.tensor(res)\n",
    "\n",
    "# inference\n",
    "# Check prior, return PyTorch prior.\n",
    "prior, num_parameters, prior_returns_numpy = process_prior(prior)\n",
    "\n",
    "# Check simulator, returns PyTorch simulator able to simulate batches.\n",
    "simulator = process_simulator(simulator, prior, prior_returns_numpy)\n",
    "\n",
    "# Consistency check after making ready for sbi.\n",
    "check_sbi_inputs(simulator, prior)\n",
    "\n",
    "num_simulations = 100_000\n",
    "theta = prior.sample((num_simulations,))\n",
    "x = simulator(theta)"
   ]
  },
  {
   "cell_type": "code",
   "execution_count": 9,
   "id": "3bd60b4f-8a31-48ef-aefa-5471508c69f5",
   "metadata": {},
   "outputs": [],
   "source": [
    "torch.save(theta, \"test_sims/theta.pt\")\n",
    "torch.save(x, \"test_sims/x.pt\")"
   ]
  },
  {
   "cell_type": "code",
   "execution_count": 1,
   "id": "0d197bfa-35f8-4596-bf15-6ffca2a873fa",
   "metadata": {},
   "outputs": [],
   "source": [
    "import numpy as np\n",
    "import pandas as pd\n",
    "import torch\n",
    "from sbi.utils import BoxUniform\n",
    "from inference_utils import get_prior, get_dist\n",
    "from evo_models import WF, WF_bottleneck, WF_DFE\n",
    "\n",
    "# Define the prior and constants\n",
    "prior = get_prior()\n",
    "N = int(1e8)\n",
    "G = 200\n",
    "\n",
    "# Define the simulator\n",
    "def simulator(model, theta):\n",
    "    s = 10**theta[0].item()\n",
    "    mu = 10**theta[1].item()\n",
    "    if model == 'WF':\n",
    "        res = WF(s, mu, N, G)\n",
    "    elif model == 'WF_bottleneck':\n",
    "        bottlenecks = [10*(i+1) for i in range(G//10)]\n",
    "        N_bottleneck = N//1000\n",
    "        bot_dict = {b: N_bottleneck for b in bottlenecks}\n",
    "        res = WF_bottleneck(s, mu, N, G, bot_dict, seed=None) # Run the bottleneck model\n",
    "    elif model == 'WF_DFE':\n",
    "        dist = get_dist(s)\n",
    "        res = WF_DFE(mu, N, G, dist)\n",
    "    return torch.tensor(res)\n",
    "\n",
    "def export_sims(model, num_simulations):\n",
    "    x_export = torch.empty(num_simulations, G//10)\n",
    "    thetas = prior.sample((num_simulations,))\n",
    "    for i in range(len(thetas)):\n",
    "        theta = thetas[i]\n",
    "        x_export[i,:] = simulator(model, theta)\n",
    "    torch.save(x_export,f'test_sims/test_x_{model}.pt')\n",
    "    torch.save(thetas,f'test_sims/test_theta_{model}.pt')\n",
    "\n",
    "if __name__ == '__main__':\n",
    "    export_sims('WF', 1000)\n",
    "    export_sims('WF_bottleneck', 1000)\n",
    "    export_sims('WF_DFE', 1000)"
   ]
  },
  {
   "cell_type": "code",
   "execution_count": null,
   "id": "39f86f8d-843f-4b2e-aa70-272d744f6baa",
   "metadata": {},
   "outputs": [],
   "source": []
  }
 ],
 "metadata": {
  "kernelspec": {
   "display_name": "Python 3 (ipykernel)",
   "language": "python",
   "name": "python3"
  },
  "language_info": {
   "codemirror_mode": {
    "name": "ipython",
    "version": 3
   },
   "file_extension": ".py",
   "mimetype": "text/x-python",
   "name": "python",
   "nbconvert_exporter": "python",
   "pygments_lexer": "ipython3",
   "version": "3.9.20"
  }
 },
 "nbformat": 4,
 "nbformat_minor": 5
}
