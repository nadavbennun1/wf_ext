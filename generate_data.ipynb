{
 "cells": [
  {
   "cell_type": "code",
   "execution_count": 8,
   "id": "a0f030c2-1bc7-45d9-a687-f69e4f7fbcfc",
   "metadata": {},
   "outputs": [],
   "source": [
    "# inference with NPE\n",
    "from models import WF\n",
    "from inference_utils import get_prior\n",
    "from sbi.inference import NPE, NLE, NRE, NPSE\n",
    "from sbi.utils.user_input_checks import (\n",
    "    check_sbi_inputs,\n",
    "    process_prior,\n",
    "    process_simulator,\n",
    ")\n",
    "\n",
    "import torch\n",
    "import pickle\n",
    "\n",
    "# Define the prior\n",
    "prior = get_prior()\n",
    "\n",
    "# Define the simulator\n",
    "def simulator(theta):\n",
    "    s = 10**theta[0].item()\n",
    "    mu = 10**theta[1].item()\n",
    "    N = int(1e8)\n",
    "    G = 200\n",
    "    res = WF(s, mu, N, G)\n",
    "    return torch.tensor(res)\n",
    "\n",
    "# inference\n",
    "# Check prior, return PyTorch prior.\n",
    "prior, num_parameters, prior_returns_numpy = process_prior(prior)\n",
    "\n",
    "# Check simulator, returns PyTorch simulator able to simulate batches.\n",
    "simulator = process_simulator(simulator, prior, prior_returns_numpy)\n",
    "\n",
    "# Consistency check after making ready for sbi.\n",
    "check_sbi_inputs(simulator, prior)\n",
    "\n",
    "num_simulations = 100_000\n",
    "theta = prior.sample((num_simulations,))\n",
    "x = simulator(theta)"
   ]
  },
  {
   "cell_type": "code",
   "execution_count": 9,
   "id": "3bd60b4f-8a31-48ef-aefa-5471508c69f5",
   "metadata": {},
   "outputs": [],
   "source": [
    "torch.save(theta, \"test_sims/theta.pt\")\n",
    "torch.save(x, \"test_sims/x.pt\")"
   ]
  }
 ],
 "metadata": {
  "kernelspec": {
   "display_name": "Python 3 (ipykernel)",
   "language": "python",
   "name": "python3"
  },
  "language_info": {
   "codemirror_mode": {
    "name": "ipython",
    "version": 3
   },
   "file_extension": ".py",
   "mimetype": "text/x-python",
   "name": "python",
   "nbconvert_exporter": "python",
   "pygments_lexer": "ipython3",
   "version": "3.9.20"
  }
 },
 "nbformat": 4,
 "nbformat_minor": 5
}
